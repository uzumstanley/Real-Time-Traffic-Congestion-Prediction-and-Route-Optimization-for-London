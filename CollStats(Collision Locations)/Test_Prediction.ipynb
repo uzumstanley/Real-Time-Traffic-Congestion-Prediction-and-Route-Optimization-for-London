{
  "cells": [
    {
      "cell_type": "code",
      "execution_count": null,
      "metadata": {
        "id": "I2jUZDyQRVU8"
      },
      "outputs": [],
      "source": [
        "import pandas as pd\n",
        "import joblib\n",
        "from sklearn.preprocessing import StandardScaler, OneHotEncoder\n",
        "from sklearn.compose import ColumnTransformer\n",
        "from sklearn.pipeline import Pipeline\n",
        "\n",
        "# Load the trained model\n",
        "model = joblib.load('collision_severity_model.pkl')\n",
        "\n",
        "# Load new data\n",
        "new_data = pd.read_csv('new_collision_data.csv')\n",
        "\n",
        "# Define preprocessing steps (same as during training)\n",
        "numeric_features = ['X', 'Y', 'EASTING', 'NORTHING']\n",
        "categorical_features = ['VEHICLE_TYPE', 'WEATHER', 'ROAD_SURFACE']\n",
        "\n",
        "preprocessor = ColumnTransformer(\n",
        "    transformers=[\n",
        "        ('num', StandardScaler(), numeric_features),\n",
        "        ('cat', OneHotEncoder(), categorical_features)\n",
        "    ])\n",
        "\n",
        "# Preprocess the new data\n",
        "new_data_processed = preprocessor.transform(new_data)\n",
        "\n",
        "# Make predictions\n",
        "predictions = model.predict(new_data_processed)\n",
        "\n",
        "# Save predictions\n",
        "new_data['Predicted_Severity'] = predictions\n",
        "new_data.to_csv('collision_predictions.csv', index=False)"
      ]
    }
  ],
  "metadata": {
    "colab": {
      "provenance": []
    },
    "kernelspec": {
      "display_name": "Python 3",
      "name": "python3"
    },
    "language_info": {
      "name": "python"
    }
  },
  "nbformat": 4,
  "nbformat_minor": 0
}